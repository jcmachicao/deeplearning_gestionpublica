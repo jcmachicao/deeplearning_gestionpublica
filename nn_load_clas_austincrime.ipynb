{
  "nbformat": 4,
  "nbformat_minor": 0,
  "metadata": {
    "colab": {
      "provenance": [],
      "include_colab_link": true
    },
    "kernelspec": {
      "display_name": "Python 3",
      "language": "python",
      "name": "python3"
    },
    "language_info": {
      "codemirror_mode": {
        "name": "ipython",
        "version": 3
      },
      "file_extension": ".py",
      "mimetype": "text/x-python",
      "name": "python",
      "nbconvert_exporter": "python",
      "pygments_lexer": "ipython3",
      "version": "3.8.8"
    },
    "accelerator": "GPU"
  },
  "cells": [
    {
      "cell_type": "markdown",
      "metadata": {
        "id": "view-in-github",
        "colab_type": "text"
      },
      "source": [
        "<a href=\"https://colab.research.google.com/github/jcmachicao/deeplearning_gestionpublica/blob/main/nn_load_clas_austincrime.ipynb\" target=\"_parent\"><img src=\"https://colab.research.google.com/assets/colab-badge.svg\" alt=\"Open In Colab\"/></a>"
      ]
    },
    {
      "cell_type": "code",
      "metadata": {
        "id": "a0Qn17lmP4oK",
        "jupyter": {
          "outputs_hidden": true
        },
        "scrolled": true
      },
      "source": [
        "# Instalaciones necesarias para GPU Rental\n",
        "!pip install pandas\n",
        "!pip install scikit-learn\n",
        "!pip install matplotlib"
      ],
      "execution_count": null,
      "outputs": []
    },
    {
      "cell_type": "markdown",
      "metadata": {
        "id": "4SnRT_Caa9qf"
      },
      "source": [
        "### Librerías"
      ]
    },
    {
      "cell_type": "code",
      "metadata": {
        "id": "B4M5Tai7PvsT"
      },
      "source": [
        "import torch\n",
        "import torch.nn as nn\n",
        "import torch.optim as optim\n",
        "import torch.nn.functional as F"
      ],
      "execution_count": null,
      "outputs": []
    },
    {
      "cell_type": "code",
      "metadata": {
        "id": "1fg6P9m9a9qh"
      },
      "source": [
        "import time\n",
        "import math\n",
        "import matplotlib.pyplot as plt\n",
        "import numpy as np\n",
        "import pandas as pd\n",
        "import os"
      ],
      "execution_count": null,
      "outputs": []
    },
    {
      "cell_type": "markdown",
      "metadata": {
        "id": "PuY0lGgya9qh"
      },
      "source": [
        "### Verificación de GPU"
      ]
    },
    {
      "cell_type": "code",
      "metadata": {
        "colab": {
          "base_uri": "https://localhost:8080/"
        },
        "id": "jqNO7dsAa9qi",
        "outputId": "dbf9afb2-ea0c-42ab-db8a-55c48b74ee5d"
      },
      "source": [
        "# Verificación de GPU\n",
        "torch.cuda.device_count(), torch.cuda.get_device_name(0)"
      ],
      "execution_count": null,
      "outputs": [
        {
          "output_type": "execute_result",
          "data": {
            "text/plain": [
              "(1, 'Tesla K80')"
            ]
          },
          "metadata": {},
          "execution_count": 3
        }
      ]
    },
    {
      "cell_type": "markdown",
      "metadata": {
        "id": "yobnsgYba9qi"
      },
      "source": [
        "### Carga de Datos"
      ]
    },
    {
      "cell_type": "code",
      "metadata": {
        "id": "-oAUNmn1a9qj"
      },
      "source": [
        "# Acondicionar la ruta dependiendo del entorno en el que se trabaja\n",
        "#ruta = 'D:\\2021_mod\\mod_lineatiempo_papa\\model_carga\\'\n",
        "#ruta = 'D://2021_mod/austin_crime_analysis/'\n",
        "ruta = 'drive/My Drive/00 Modelos Principales/modelos/austin_crime/'"
      ],
      "execution_count": null,
      "outputs": []
    },
    {
      "cell_type": "code",
      "metadata": {
        "colab": {
          "base_uri": "https://localhost:8080/"
        },
        "id": "BXPR56xPq4SA",
        "outputId": "c452e887-fd17-4dca-da6b-5974387e826a"
      },
      "source": [
        "from google.colab import drive\n",
        "drive.mount('/content/drive')"
      ],
      "execution_count": null,
      "outputs": [
        {
          "output_type": "stream",
          "name": "stdout",
          "text": [
            "Mounted at /content/drive\n"
          ]
        }
      ]
    },
    {
      "cell_type": "code",
      "metadata": {
        "colab": {
          "base_uri": "https://localhost:8080/"
        },
        "id": "zPq7pTr0a9qk",
        "outputId": "9ad5125f-0b0b-4a7c-95c8-fd0e85e73ed4"
      },
      "source": [
        "X_np = np.load(ruta + 'X_np.npy')\n",
        "y_np = np.load(ruta + 'y_np.npy')\n",
        "print(X_np.shape, y_np.shape)"
      ],
      "execution_count": null,
      "outputs": [
        {
          "output_type": "stream",
          "name": "stdout",
          "text": [
            "(7782, 46) (7782,)\n"
          ]
        }
      ]
    },
    {
      "cell_type": "code",
      "metadata": {
        "colab": {
          "base_uri": "https://localhost:8080/"
        },
        "id": "EY4797xeQibZ",
        "outputId": "1ff8b5cc-35a2-4e15-f16d-500af920bf53"
      },
      "source": [
        "X = torch.from_numpy(X_np.astype('float64'))\n",
        "y = torch.squeeze(torch.from_numpy(np.array(y_np)))\n",
        "print(X.shape, y.shape)"
      ],
      "execution_count": null,
      "outputs": [
        {
          "output_type": "stream",
          "name": "stdout",
          "text": [
            "torch.Size([7782, 46]) torch.Size([7782])\n"
          ]
        }
      ]
    },
    {
      "cell_type": "code",
      "metadata": {
        "id": "rbmJotQVmhJc"
      },
      "source": [
        "y_cats = ['Theft: Shoplifting', 'Auto Theft', 'Aggravated Assault', 'Robbery', 'Theft: Pocket Picking', 'Rape']"
      ],
      "execution_count": null,
      "outputs": []
    },
    {
      "cell_type": "markdown",
      "metadata": {
        "id": "lc2anxg1a9ql"
      },
      "source": [
        "### Arquitectura de Red"
      ]
    },
    {
      "cell_type": "code",
      "metadata": {
        "colab": {
          "base_uri": "https://localhost:8080/"
        },
        "id": "a9Eg5UtNmzvx",
        "outputId": "c41a106a-2091-4849-a56b-f6a812959ef7"
      },
      "source": [
        "n_cols = X_np.shape[1]\n",
        "n_cats = len(y_cats)\n",
        "print(n_cols, n_cats)"
      ],
      "execution_count": null,
      "outputs": [
        {
          "output_type": "stream",
          "name": "stdout",
          "text": [
            "46 6\n"
          ]
        }
      ]
    },
    {
      "cell_type": "code",
      "metadata": {
        "id": "XnBZ4f8qa9qm"
      },
      "source": [
        "# Arquitectura\n",
        "class NetClas(nn.Module):\n",
        "\n",
        "  def __init__(self):\n",
        "    super(NetClas, self).__init__()\n",
        "    self.fc1 = nn.Linear(n_cols, 512)\n",
        "    self.fc2 = nn.Linear(512, 256)\n",
        "    self.fc3 = nn.Linear(256, 32)\n",
        "    self.fc4 = nn.Linear(32, n_cats)\n",
        "    self.dp1 = nn.Dropout(0.15)\n",
        "\n",
        "  def forward(self, x):\n",
        "    x = F.relu(self.fc1(x))\n",
        "    x = self.dp1(F.relu(self.fc2(x)))\n",
        "    x = self.dp1(F.relu(self.fc3(x)))\n",
        "    x = self.fc4(x)\n",
        "    return F.log_softmax(x, dim=1)"
      ],
      "execution_count": null,
      "outputs": []
    },
    {
      "cell_type": "code",
      "metadata": {
        "id": "BdU3Idh91z7N"
      },
      "source": [
        "model = NetClas()"
      ],
      "execution_count": null,
      "outputs": []
    },
    {
      "cell_type": "markdown",
      "metadata": {
        "id": "0kOEQ47Ma9qm"
      },
      "source": [
        "### Rescate de modelo entrenado"
      ]
    },
    {
      "cell_type": "code",
      "metadata": {
        "colab": {
          "base_uri": "https://localhost:8080/"
        },
        "id": "-kdcqY2BRP3Z",
        "outputId": "12d4c1d2-2108-4233-a1f8-a221ce7ef5ea"
      },
      "source": [
        "model"
      ],
      "execution_count": null,
      "outputs": [
        {
          "output_type": "execute_result",
          "data": {
            "text/plain": [
              "NetClas(\n",
              "  (fc1): Linear(in_features=46, out_features=512, bias=True)\n",
              "  (fc2): Linear(in_features=512, out_features=256, bias=True)\n",
              "  (fc3): Linear(in_features=256, out_features=32, bias=True)\n",
              "  (fc4): Linear(in_features=32, out_features=6, bias=True)\n",
              "  (dp1): Dropout(p=0.15, inplace=False)\n",
              ")"
            ]
          },
          "metadata": {},
          "execution_count": 13
        }
      ]
    },
    {
      "cell_type": "code",
      "metadata": {
        "colab": {
          "base_uri": "https://localhost:8080/"
        },
        "id": "2OBJA68ga9qm",
        "outputId": "a8c724ed-17e6-4be9-8d5d-e166a1ca45de"
      },
      "source": [
        "nom_model = ruta + 'modelo_austin_clas_v6.pth'\n",
        "modelo_load = nom_model\n",
        "model.load_state_dict(torch.load(modelo_load, map_location=torch.device('cpu')))"
      ],
      "execution_count": null,
      "outputs": [
        {
          "output_type": "execute_result",
          "data": {
            "text/plain": [
              "<All keys matched successfully>"
            ]
          },
          "metadata": {},
          "execution_count": 14
        }
      ]
    },
    {
      "cell_type": "markdown",
      "metadata": {
        "id": "hLB7afbWa9qn"
      },
      "source": [
        "### Montaje de Elementos en CUDA"
      ]
    },
    {
      "cell_type": "code",
      "metadata": {
        "colab": {
          "base_uri": "https://localhost:8080/"
        },
        "id": "tNDO2RhEa9qn",
        "outputId": "4d982406-3066-4b19-827e-defa4fde6b0c"
      },
      "source": [
        "model.cuda(0)\n",
        "#X_g = X_cv.cuda(0)\n",
        "X_g = X.cuda(0)\n",
        "y_g = y.cuda(0)\n",
        "X_g.shape, y_g.shape"
      ],
      "execution_count": null,
      "outputs": [
        {
          "output_type": "execute_result",
          "data": {
            "text/plain": [
              "(torch.Size([7782, 46]), torch.Size([7782]))"
            ]
          },
          "metadata": {},
          "execution_count": 16
        }
      ]
    },
    {
      "cell_type": "markdown",
      "metadata": {
        "id": "0W3-CG6la9qn"
      },
      "source": [
        "### Testing"
      ]
    },
    {
      "cell_type": "code",
      "metadata": {
        "id": "gZS3hM7ya9qo"
      },
      "source": [
        "pred_df = pd.DataFrame()\n",
        "out = model(X_g.float())\n",
        "y_hat = torch.argmax(out, 1).cpu().detach()\n",
        "pred_df['y_orig'] = y.long()\n",
        "pred_df['y_hat'] = y_hat\n",
        "pred_df.to_excel(ruta + 'pred_austin_clas_v6__.xlsx')"
      ],
      "execution_count": null,
      "outputs": []
    },
    {
      "cell_type": "code",
      "metadata": {
        "id": "b8_cdElSehAS",
        "colab": {
          "base_uri": "https://localhost:8080/"
        },
        "outputId": "85a75fa9-db96-43d3-c1de-16b48cd62d1e"
      },
      "source": [
        "(pred_df.y_orig == pred_df.y_hat).sum()/len(pred_df)"
      ],
      "execution_count": null,
      "outputs": [
        {
          "output_type": "execute_result",
          "data": {
            "text/plain": [
              "0.9491133384734002"
            ]
          },
          "metadata": {},
          "execution_count": 16
        }
      ]
    },
    {
      "cell_type": "code",
      "metadata": {
        "colab": {
          "base_uri": "https://localhost:8080/",
          "height": 422
        },
        "id": "omCecfZnjGU5",
        "outputId": "74bd3d09-2e5b-459a-f7c6-b92c03c37c23"
      },
      "source": [
        "pred_df.pivot_table(values=)"
      ],
      "execution_count": null,
      "outputs": [
        {
          "output_type": "execute_result",
          "data": {
            "text/html": [
              "<div>\n",
              "<style scoped>\n",
              "    .dataframe tbody tr th:only-of-type {\n",
              "        vertical-align: middle;\n",
              "    }\n",
              "\n",
              "    .dataframe tbody tr th {\n",
              "        vertical-align: top;\n",
              "    }\n",
              "\n",
              "    .dataframe thead th {\n",
              "        text-align: right;\n",
              "    }\n",
              "</style>\n",
              "<table border=\"1\" class=\"dataframe\">\n",
              "  <thead>\n",
              "    <tr style=\"text-align: right;\">\n",
              "      <th></th>\n",
              "      <th>y_orig</th>\n",
              "      <th>y_hat</th>\n",
              "    </tr>\n",
              "  </thead>\n",
              "  <tbody>\n",
              "    <tr>\n",
              "      <th>0</th>\n",
              "      <td>0</td>\n",
              "      <td>0</td>\n",
              "    </tr>\n",
              "    <tr>\n",
              "      <th>1</th>\n",
              "      <td>1</td>\n",
              "      <td>3</td>\n",
              "    </tr>\n",
              "    <tr>\n",
              "      <th>2</th>\n",
              "      <td>1</td>\n",
              "      <td>1</td>\n",
              "    </tr>\n",
              "    <tr>\n",
              "      <th>3</th>\n",
              "      <td>0</td>\n",
              "      <td>1</td>\n",
              "    </tr>\n",
              "    <tr>\n",
              "      <th>4</th>\n",
              "      <td>2</td>\n",
              "      <td>2</td>\n",
              "    </tr>\n",
              "    <tr>\n",
              "      <th>...</th>\n",
              "      <td>...</td>\n",
              "      <td>...</td>\n",
              "    </tr>\n",
              "    <tr>\n",
              "      <th>7777</th>\n",
              "      <td>0</td>\n",
              "      <td>0</td>\n",
              "    </tr>\n",
              "    <tr>\n",
              "      <th>7778</th>\n",
              "      <td>4</td>\n",
              "      <td>4</td>\n",
              "    </tr>\n",
              "    <tr>\n",
              "      <th>7779</th>\n",
              "      <td>0</td>\n",
              "      <td>0</td>\n",
              "    </tr>\n",
              "    <tr>\n",
              "      <th>7780</th>\n",
              "      <td>2</td>\n",
              "      <td>3</td>\n",
              "    </tr>\n",
              "    <tr>\n",
              "      <th>7781</th>\n",
              "      <td>2</td>\n",
              "      <td>2</td>\n",
              "    </tr>\n",
              "  </tbody>\n",
              "</table>\n",
              "<p>7782 rows × 2 columns</p>\n",
              "</div>"
            ],
            "text/plain": [
              "      y_orig  y_hat\n",
              "0          0      0\n",
              "1          1      3\n",
              "2          1      1\n",
              "3          0      1\n",
              "4          2      2\n",
              "...      ...    ...\n",
              "7777       0      0\n",
              "7778       4      4\n",
              "7779       0      0\n",
              "7780       2      3\n",
              "7781       2      2\n",
              "\n",
              "[7782 rows x 2 columns]"
            ]
          },
          "metadata": {},
          "execution_count": 18
        }
      ]
    },
    {
      "cell_type": "markdown",
      "metadata": {
        "id": "uQ2fRwM2a9qo"
      },
      "source": [
        "### Continua Entrenamiento"
      ]
    },
    {
      "cell_type": "code",
      "metadata": {
        "id": "u2JRb3eudxmi"
      },
      "source": [
        "nit = -1\n",
        "learning_rate = 0.001\n",
        "errores = []\n",
        "precision = []"
      ],
      "execution_count": null,
      "outputs": []
    },
    {
      "cell_type": "code",
      "metadata": {
        "id": "ysdHnKxIxImw"
      },
      "source": [
        "# Para clasificación\n",
        "criterion = nn.NLLLoss() \n",
        "optimizer = optim.Adam(model.parameters(), lr=learning_rate)\n",
        "#criterion = nn.CrossEntropyLoss() # Para clasificación\n",
        "\n",
        "# Para regresión\n",
        "#criterion = nn.MSELoss()  \n",
        "#optimizer = optim.SGD(model.parameters(), lr=learning_rate, momentum=0.9)"
      ],
      "execution_count": null,
      "outputs": []
    },
    {
      "cell_type": "code",
      "metadata": {
        "id": "l3eYB9Z3a9qp"
      },
      "source": [
        "num_epochs = 500"
      ],
      "execution_count": null,
      "outputs": []
    },
    {
      "cell_type": "code",
      "metadata": {
        "id": "zWU4mYOMxQsA",
        "colab": {
          "base_uri": "https://localhost:8080/"
        },
        "outputId": "2a014872-69a4-4e76-fe1e-efd7e2620028"
      },
      "source": [
        "for c in range(5):\n",
        "    \n",
        "  print('Ciclo: ', c)\n",
        "  nit += 1\n",
        "  start = time.time()\n",
        "\n",
        "  for epoch in range(num_epochs):\n",
        "        \n",
        "    optimizer.zero_grad()\n",
        "    scores = model(X_g.float())\n",
        "    loss = F.nll_loss(scores, y_g.long())\n",
        "    #loss = criterion(scores, y)\n",
        "    loss.backward()\n",
        "    optimizer.step()\n",
        "    \n",
        "    if epoch % int(num_epochs/10) == 0:\n",
        "        \n",
        "        end = time.time()\n",
        "        errores.append([epoch+nit*num_epochs, loss.item()])\n",
        "        \n",
        "        pred = scores.cpu().detach().numpy()\n",
        "        predicts = pd.DataFrame(np.argmax(pred, 1))\n",
        "        predicts.columns = ['preds']\n",
        "        predicts['y_orig'] = y\n",
        "        predicts['acierto'] = (predicts.preds == predicts.y_orig)*1\n",
        "        precis = predicts.acierto.sum()/len(predicts)\n",
        "        precision.append(precis)\n",
        "        \n",
        "        print(epoch+nit*num_epochs, '{0: .5f}'.format(loss.item()), '{0: .2f}'.format(end-start),  '{0: .4f}'.format(precis))\n",
        "        start = end\n",
        "        \n",
        "print('Ciclo Finalizado')"
      ],
      "execution_count": null,
      "outputs": [
        {
          "output_type": "stream",
          "name": "stdout",
          "text": [
            "Ciclo:  0\n",
            "14500  0.13523  0.01  0.9406\n",
            "14550  0.12020  0.53  0.9463\n",
            "14600  0.12452  0.50  0.9468\n",
            "14650  0.12574  0.47  0.9453\n",
            "14700  0.12533  0.47  0.9463\n",
            "14750  0.11710  0.47  0.9513\n",
            "14800  0.12085  0.47  0.9487\n",
            "14850  0.12138  0.46  0.9494\n",
            "14900  0.12067  0.47  0.9477\n",
            "14950  0.12918  0.47  0.9411\n",
            "Ciclo:  1\n",
            "15000  0.15192  0.01  0.9320\n",
            "15050  0.13314  0.53  0.9422\n",
            "15100  0.11853  0.47  0.9494\n",
            "15150  0.12082  0.47  0.9490\n",
            "15200  0.11633  0.47  0.9495\n",
            "15250  0.11889  0.47  0.9454\n",
            "15300  0.13340  0.47  0.9409\n",
            "15350  0.11791  0.47  0.9503\n",
            "15400  0.11834  0.47  0.9487\n",
            "15450  0.12342  0.47  0.9463\n",
            "Ciclo:  2\n",
            "15500  0.12072  0.01  0.9478\n",
            "15550  0.11939  0.47  0.9483\n",
            "15600  0.12012  0.47  0.9495\n",
            "15650  0.11925  0.47  0.9498\n",
            "15700  0.12246  0.53  0.9456\n",
            "15750  0.11661  0.47  0.9486\n",
            "15800  0.12030  0.46  0.9487\n",
            "15850  0.11740  0.47  0.9498\n",
            "15900  0.11731  0.47  0.9468\n",
            "15950  0.11754  0.47  0.9469\n",
            "Ciclo:  3\n",
            "16000  0.12033  0.01  0.9495\n",
            "16050  0.12125  0.47  0.9463\n",
            "16100  0.11179  0.47  0.9494\n",
            "16150  0.11959  0.47  0.9463\n",
            "16200  0.11097  0.47  0.9528\n",
            "16250  0.11279  0.47  0.9500\n",
            "16300  0.11049  0.53  0.9544\n",
            "16350  0.12143  0.47  0.9476\n",
            "16400  0.11522  0.47  0.9483\n",
            "16450  0.11458  0.47  0.9494\n",
            "Ciclo:  4\n",
            "16500  0.11338  0.01  0.9504\n",
            "16550  0.12601  0.47  0.9462\n",
            "16600  0.11176  0.47  0.9540\n",
            "16650  0.11159  0.47  0.9505\n",
            "16700  0.11915  0.47  0.9483\n",
            "16750  0.11493  0.47  0.9490\n",
            "16800  0.10756  0.47  0.9513\n",
            "16850  0.11679  0.47  0.9495\n",
            "16900  0.11141  0.52  0.9526\n",
            "16950  0.10761  0.46  0.9518\n",
            "Ciclo Finalizado\n"
          ]
        }
      ]
    },
    {
      "cell_type": "code",
      "metadata": {
        "id": "hMjFLw-RfROo"
      },
      "source": [
        "nombre = 'austin_clas_'\n",
        "version = 'v6'"
      ],
      "execution_count": null,
      "outputs": []
    },
    {
      "cell_type": "code",
      "metadata": {
        "colab": {
          "base_uri": "https://localhost:8080/",
          "height": 499
        },
        "id": "j3uGll1tR3Wh",
        "outputId": "cfaac58a-52e0-4be0-999d-f09d6312cf97"
      },
      "source": [
        "err_df = pd.DataFrame(errores)\n",
        "prec_df = pd.DataFrame(precision)\n",
        "\n",
        "plt.figure(figsize=(12,8))\n",
        "plt.plot(err_df[1], label='error')\n",
        "plt.plot(prec_df[0], label='precisión')\n",
        "plt.grid(True)\n",
        "plt.title('Curva de Precisión y Error. Segundo Entrenamiento Austin-Crime.')\n",
        "plt.legend(loc='best')\n",
        "plt.ylim(0,1)\n",
        "plt.savefig('error_precision'+nombre+version+'.png')\n",
        "plt.show()"
      ],
      "execution_count": null,
      "outputs": [
        {
          "output_type": "display_data",
          "data": {
            "image/png": "[encoded data removed]",
            "text/plain": [
              "<Figure size 864x576 with 1 Axes>"
            ]
          },
          "metadata": {
            "needs_background": "light"
          }
        }
      ]
    },
    {
      "cell_type": "code",
      "metadata": {
        "id": "-DcqhqjRR-Gh"
      },
      "source": [
        "torch.save(model.state_dict(), ruta + 'modelo_'+nombre+version+'.pth')\n",
        "pred_df = pd.DataFrame(pred)\n",
        "pred_df.to_csv(ruta + 'preds_'+nombre+version+'.csv')\n",
        "errores_df = pd.DataFrame(errores)\n",
        "errores_df.to_csv(ruta + 'errors_'+nombre+version+'.csv')"
      ],
      "execution_count": null,
      "outputs": []
    },
    {
      "cell_type": "code",
      "metadata": {
        "id": "rtI3bbTHa9qq"
      },
      "source": [
        "pred = scores.cpu().detach().numpy()\n",
        "predicts = pd.DataFrame(np.argmax(pred, 1))\n",
        "predicts.columns = ['preds']\n",
        "predicts['y_orig'] = y\n",
        "predicts['acierto'] = (predicts.preds == predicts.y_orig)*1\n",
        "predicts.to_csv(ruta + 'predic__'+nombre+version+'.csv')"
      ],
      "execution_count": null,
      "outputs": []
    },
    {
      "cell_type": "code",
      "metadata": {
        "id": "XJsIzzDGehAU"
      },
      "source": [],
      "execution_count": null,
      "outputs": []
    }
  ]
}