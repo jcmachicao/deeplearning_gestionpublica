{
  "nbformat": 4,
  "nbformat_minor": 0,
  "metadata": {
    "colab": {
      "provenance": [],
      "include_colab_link": true
    },
    "kernelspec": {
      "display_name": "Python 3",
      "language": "python",
      "name": "python3"
    },
    "language_info": {
      "codemirror_mode": {
        "name": "ipython",
        "version": 3
      },
      "file_extension": ".py",
      "mimetype": "text/x-python",
      "name": "python",
      "nbconvert_exporter": "python",
      "pygments_lexer": "ipython3",
      "version": "3.8.8"
    }
  },
  "cells": [
    {
      "cell_type": "markdown",
      "metadata": {
        "id": "view-in-github",
        "colab_type": "text"
      },
      "source": [
        "<a href=\"https://colab.research.google.com/github/jcmachicao/deeplearning_gestionpublica/blob/main/gdmk_nn_2022_clas.ipynb\" target=\"_parent\"><img src=\"https://colab.research.google.com/assets/colab-badge.svg\" alt=\"Open In Colab\"/></a>"
      ]
    },
    {
      "cell_type": "code",
      "metadata": {
        "id": "a0Qn17lmP4oK",
        "jupyter": {
          "outputs_hidden": true
        },
        "scrolled": true
      },
      "source": [
        "# Instalaciones necesarias para GPU Rental\n",
        "!pip install pandas\n",
        "!pip install scikit-learn\n",
        "!pip install matplotlib"
      ],
      "execution_count": null,
      "outputs": []
    },
    {
      "cell_type": "markdown",
      "metadata": {
        "id": "4SnRT_Caa9qf"
      },
      "source": [
        "### Librerías"
      ]
    },
    {
      "cell_type": "code",
      "metadata": {
        "id": "B4M5Tai7PvsT"
      },
      "source": [
        "import torch\n",
        "import torch.nn as nn\n",
        "import torch.optim as optim\n",
        "import torch.nn.functional as F"
      ],
      "execution_count": null,
      "outputs": []
    },
    {
      "cell_type": "code",
      "metadata": {
        "id": "1fg6P9m9a9qh"
      },
      "source": [
        "import time\n",
        "import math\n",
        "import matplotlib.pyplot as plt\n",
        "import numpy as np\n",
        "import pandas as pd\n",
        "import os"
      ],
      "execution_count": null,
      "outputs": []
    },
    {
      "cell_type": "markdown",
      "metadata": {
        "id": "PuY0lGgya9qh"
      },
      "source": [
        "### Verificación de GPU"
      ]
    },
    {
      "cell_type": "code",
      "metadata": {
        "id": "jqNO7dsAa9qi"
      },
      "source": [
        "# Verificación de GPU\n",
        "torch.cuda.device_count(), torch.cuda.get_device_name(0)"
      ],
      "execution_count": null,
      "outputs": []
    },
    {
      "cell_type": "markdown",
      "metadata": {
        "id": "yobnsgYba9qi"
      },
      "source": [
        "### Carga de Datos"
      ]
    },
    {
      "cell_type": "code",
      "metadata": {
        "id": "-oAUNmn1a9qj"
      },
      "source": [
        "# Acondicionar la ruta dependiendo del entorno en el que se trabaja\n",
        "#ruta = 'D:\\2021_mod\\mod_lineatiempo_papa\\model_carga\\'\n",
        "#ruta = 'D://2021_mod/austin_crime_analysis/'\n",
        "ruta = ''\n",
        "#tipo_modelo = 'REGRESION'\n",
        "tipo_modelo = 'CLASIFICACION'"
      ],
      "execution_count": null,
      "outputs": []
    },
    {
      "cell_type": "code",
      "metadata": {
        "colab": {
          "base_uri": "https://localhost:8080/"
        },
        "id": "zPq7pTr0a9qk",
        "outputId": "b69fc0d9-9110-4a55-ff3c-02797a118f33"
      },
      "source": [
        "X_np = np.load(ruta + 'X_in_crime.npy')\n",
        "y_np = np.load(ruta + 'y_in_crime.npy')\n",
        "print(X_np.shape, y_np.shape)"
      ],
      "execution_count": null,
      "outputs": [
        {
          "output_type": "stream",
          "name": "stdout",
          "text": [
            "(26011, 15) (26011, 1)\n"
          ]
        }
      ]
    },
    {
      "cell_type": "code",
      "metadata": {
        "id": "EY4797xeQibZ",
        "colab": {
          "base_uri": "https://localhost:8080/"
        },
        "outputId": "1ff3ff46-f4ac-49be-b22b-6a375e92257e"
      },
      "source": [
        "X = torch.from_numpy(X_np.astype('float64'))\n",
        "y = torch.squeeze(torch.from_numpy(np.array(y_np)))\n",
        "print(X.shape, y.shape)"
      ],
      "execution_count": null,
      "outputs": [
        {
          "output_type": "stream",
          "name": "stdout",
          "text": [
            "torch.Size([26011, 15]) torch.Size([26011])\n"
          ]
        }
      ]
    },
    {
      "cell_type": "markdown",
      "metadata": {
        "id": "lc2anxg1a9ql"
      },
      "source": [
        "### Arquitectura de Red"
      ]
    },
    {
      "cell_type": "code",
      "metadata": {
        "id": "0XqEOMngQv0Z"
      },
      "source": [
        "# Arquitectura\n",
        "class NetReg(nn.Module):\n",
        "\n",
        "  def __init__(self):\n",
        "    super(NetReg, self).__init__()\n",
        "    self.fc1 = nn.Linear(15, 512)\n",
        "    self.fc2 = nn.Linear(512, 256)\n",
        "    self.fc3 = nn.Linear(256, 32)\n",
        "    self.fc4 = nn.Linear(32, 1)\n",
        "    self.dp1 = nn.Dropout(0.15)\n",
        "\n",
        "  def forward(self, x):\n",
        "    x = F.relu(self.fc1(x))\n",
        "    x = F.relu(self.fc2(x))\n",
        "    x = F.relu(self.fc3(x))\n",
        "    x = self.fc4(x)\n",
        "    return x"
      ],
      "execution_count": null,
      "outputs": []
    },
    {
      "cell_type": "code",
      "metadata": {
        "id": "XnBZ4f8qa9qm"
      },
      "source": [
        "# Arquitectura\n",
        "class NetClas(nn.Module):\n",
        "\n",
        "  def __init__(self):\n",
        "    super(NetClas, self).__init__()\n",
        "    self.fc1 = nn.Linear(15, 512)\n",
        "    self.fc2 = nn.Linear(512, 256)\n",
        "    self.fc3 = nn.Linear(256, 32)\n",
        "    self.fc4 = nn.Linear(32, 5)\n",
        "    self.dp1 = nn.Dropout(0.15)\n",
        "\n",
        "  def forward(self, x):\n",
        "    x = F.relu(self.fc1(x))\n",
        "    x = F.relu(self.fc2(x))\n",
        "    x = F.relu(self.fc3(x))\n",
        "    x = self.fc4(x)\n",
        "    return F.log_softmax(x, dim=1)"
      ],
      "execution_count": null,
      "outputs": []
    },
    {
      "cell_type": "code",
      "metadata": {
        "id": "BdU3Idh91z7N"
      },
      "source": [
        "if tipo_modelo == 'REGRESION':\n",
        "  model = NetReg()\n",
        "else:\n",
        "  model = NetClas()"
      ],
      "execution_count": null,
      "outputs": []
    },
    {
      "cell_type": "markdown",
      "metadata": {
        "id": "0kOEQ47Ma9qm"
      },
      "source": [
        "### Rescate de modelo entrenado"
      ]
    },
    {
      "cell_type": "code",
      "metadata": {
        "colab": {
          "base_uri": "https://localhost:8080/"
        },
        "id": "2OBJA68ga9qm",
        "outputId": "31a021e1-1864-4cfc-da81-3a28714d2b76"
      },
      "source": [
        "#ruta_r = 'D://2021_mod/austin_crime_analysis/Res2/'\n",
        "ruta_r = ''\n",
        "nom_model = ruta_r + 'modelo_austin_clas_v2.pth'\n",
        "modelo_load = nom_model\n",
        "model.load_state_dict(torch.load(modelo_load, map_location=torch.device('cpu')))"
      ],
      "execution_count": null,
      "outputs": [
        {
          "output_type": "execute_result",
          "data": {
            "text/plain": [
              "<All keys matched successfully>"
            ]
          },
          "metadata": {},
          "execution_count": 10
        }
      ]
    },
    {
      "cell_type": "code",
      "metadata": {
        "id": "-kdcqY2BRP3Z",
        "colab": {
          "base_uri": "https://localhost:8080/"
        },
        "outputId": "dd1f5200-b309-40c7-dd04-a458ba08b225"
      },
      "source": [
        "model"
      ],
      "execution_count": null,
      "outputs": [
        {
          "output_type": "execute_result",
          "data": {
            "text/plain": [
              "NetClas(\n",
              "  (fc1): Linear(in_features=15, out_features=512, bias=True)\n",
              "  (fc2): Linear(in_features=512, out_features=256, bias=True)\n",
              "  (fc3): Linear(in_features=256, out_features=32, bias=True)\n",
              "  (fc4): Linear(in_features=32, out_features=5, bias=True)\n",
              "  (dp1): Dropout(p=0.15, inplace=False)\n",
              ")"
            ]
          },
          "metadata": {},
          "execution_count": 11
        }
      ]
    },
    {
      "cell_type": "markdown",
      "metadata": {
        "id": "hLB7afbWa9qn"
      },
      "source": [
        "### Montaje de Elementos en CUDA"
      ]
    },
    {
      "cell_type": "code",
      "metadata": {
        "colab": {
          "base_uri": "https://localhost:8080/"
        },
        "id": "tNDO2RhEa9qn",
        "outputId": "804b4b4e-c0dd-40f0-e748-b13c18e89ba4"
      },
      "source": [
        "model.cuda(0)\n",
        "#X_g = X_cv.cuda(0)\n",
        "X_g = X.cuda(0)\n",
        "y_g = y.cuda(0)\n",
        "X_g.shape, y_g.shape"
      ],
      "execution_count": null,
      "outputs": [
        {
          "output_type": "execute_result",
          "data": {
            "text/plain": [
              "(torch.Size([26011, 15]), torch.Size([26011]))"
            ]
          },
          "metadata": {},
          "execution_count": 12
        }
      ]
    },
    {
      "cell_type": "markdown",
      "metadata": {
        "id": "0W3-CG6la9qn"
      },
      "source": [
        "### Testing"
      ]
    },
    {
      "cell_type": "code",
      "metadata": {
        "colab": {
          "base_uri": "https://localhost:8080/"
        },
        "id": "gZS3hM7ya9qo",
        "outputId": "356321fa-0920-4435-8c7b-c3014972ae37"
      },
      "source": [
        "pred_df = pd.DataFrame()\n",
        "out = model(X_g.float())\n",
        "print(out)\n",
        "y_hat = torch.argmax(out, 1).cpu().detach()\n",
        "pred_df['y_orig'] = y.long()\n",
        "pred_df['y_hat'] = y_hat\n",
        "pred_df.to_excel(ruta_r + 'pred_austin_clas_v1.xlsx')"
      ],
      "execution_count": null,
      "outputs": [
        {
          "output_type": "stream",
          "name": "stdout",
          "text": [
            "tensor([[-3.4445e-03, -9.3583e+01, -5.6727e+00, -1.9080e+02, -2.6224e+01],\n",
            "        [-2.4337e+01, -5.3973e-01, -8.9650e-01, -4.6995e+00, -2.9751e+01],\n",
            "        [-1.9840e+01, -3.7341e+00, -1.5613e-01, -2.1148e+00, -3.0162e+01],\n",
            "        ...,\n",
            "        [-1.4680e+00, -5.6062e+00, -5.7630e+00, -6.4073e+00, -2.7292e-01],\n",
            "        [-3.4323e+01, -7.8679e-01, -6.8268e-01, -3.2332e+00, -3.4046e+01],\n",
            "        [-1.3780e+01, -2.4448e+00, -7.4017e-01, -8.3059e-01, -7.7612e+00]],\n",
            "       device='cuda:0', grad_fn=<LogSoftmaxBackward>)\n"
          ]
        }
      ]
    },
    {
      "cell_type": "markdown",
      "metadata": {
        "id": "uQ2fRwM2a9qo"
      },
      "source": [
        "### Continua Entrenamiento"
      ]
    },
    {
      "cell_type": "code",
      "metadata": {
        "id": "u2JRb3eudxmi"
      },
      "source": [
        "nit = -1\n",
        "learning_rate = 0.001\n",
        "errores = []\n",
        "precision = []"
      ],
      "execution_count": null,
      "outputs": []
    },
    {
      "cell_type": "code",
      "metadata": {
        "id": "ysdHnKxIxImw"
      },
      "source": [
        "# Para clasificación\n",
        "criterion = nn.NLLLoss() \n",
        "optimizer = optim.Adam(model.parameters(), lr=learning_rate)\n",
        "#criterion = nn.CrossEntropyLoss() # Para clasificación\n",
        "\n",
        "# Para regresión\n",
        "#criterion = nn.MSELoss()  \n",
        "#optimizer = optim.SGD(model.parameters(), lr=learning_rate, momentum=0.9)"
      ],
      "execution_count": null,
      "outputs": []
    },
    {
      "cell_type": "code",
      "metadata": {
        "id": "l3eYB9Z3a9qp"
      },
      "source": [
        "num_epochs = 100000"
      ],
      "execution_count": null,
      "outputs": []
    },
    {
      "cell_type": "code",
      "metadata": {
        "id": "zWU4mYOMxQsA"
      },
      "source": [
        "for c in range(2):\n",
        "    \n",
        "  print('Ciclo: ', c)\n",
        "  nit += 1\n",
        "  start = time.time()\n",
        "\n",
        "  for epoch in range(num_epochs):\n",
        "        \n",
        "    optimizer.zero_grad()\n",
        "    scores = model(X_g.float())\n",
        "    loss = F.nll_loss(scores, y_g.long())\n",
        "    #loss = criterion(scores, y)\n",
        "    loss.backward()\n",
        "    optimizer.step()\n",
        "    \n",
        "    if epoch % int(num_epochs/10) == 0:\n",
        "        \n",
        "        end = time.time()\n",
        "        errores.append([epoch+nit*num_epochs, loss.item()])\n",
        "        \n",
        "        pred = scores.cpu().detach().numpy()\n",
        "        predicts = pd.DataFrame(np.argmax(pred, 1))\n",
        "        predicts.columns = ['preds']\n",
        "        predicts['y_orig'] = y\n",
        "        predicts['acierto'] = (predicts.preds == predicts.y_orig)*1\n",
        "        precis = predicts.acierto.sum()/len(predicts)\n",
        "        precision.append(precis)\n",
        "        \n",
        "        print(epoch+nit*num_epochs, '{0: .5f}'.format(loss.item()), '{0: .2f}'.format(end-start),  '{0: .4f}'.format(precis))\n",
        "        start = end\n",
        "        \n",
        "print('Ciclo Finalizado')"
      ],
      "execution_count": null,
      "outputs": []
    },
    {
      "cell_type": "code",
      "metadata": {
        "id": "hMjFLw-RfROo"
      },
      "source": [
        "nombre = 'austin_clas_'\n",
        "version = 'v4'"
      ],
      "execution_count": null,
      "outputs": []
    },
    {
      "cell_type": "code",
      "metadata": {
        "id": "j3uGll1tR3Wh",
        "colab": {
          "base_uri": "https://localhost:8080/",
          "height": 499
        },
        "outputId": "71cd8844-6494-4701-edc5-de474b3b9c8d"
      },
      "source": [
        "err_df = pd.DataFrame(errores)\n",
        "prec_df = pd.DataFrame(precision)\n",
        "\n",
        "plt.figure(figsize=(12,8))\n",
        "plt.plot(err_df[1], label='error')\n",
        "plt.plot(prec_df[0], label='precisión')\n",
        "plt.grid(True)\n",
        "plt.ylim(0,1)\n",
        "plt.title('Curva de Precisión y Error. Segundo Entrenamiento Austin-Crime.')\n",
        "plt.legend(loc='best')\n",
        "plt.savefig('error_precision.png')\n",
        "plt.show()"
      ],
      "execution_count": null,
      "outputs": [
        {
          "output_type": "display_data",
          "data": {
            "image/png": "[encoded data removed]",
            "text/plain": [
              "<Figure size 864x576 with 1 Axes>"
            ]
          },
          "metadata": {
            "needs_background": "light"
          }
        }
      ]
    },
    {
      "cell_type": "code",
      "metadata": {
        "id": "pTs3jI9IR5oh",
        "cellView": "form",
        "outputId": "fb7e63a6-e6e1-4414-a59e-26c86ec04e66"
      },
      "source": [
        "#@title Gráficas de Regresión\n",
        "f = plt.figure(figsize=(18,7), facecolor='lightgray')\n",
        "\n",
        "ax1 = f.add_subplot(121)\n",
        "ax1.plot(y_np, pred, 'bo', ms=2, label='Red Neuronal')\n",
        "#ax1.plot([0,1], [0, 1], 'b:', lw=2)\n",
        "ax1.set_title('Resultado de Entrenamiento Red Neuronal', fontsize=16)\n",
        "ax1.set_xlabel('y original')\n",
        "ax1.set_ylabel('y predicho')\n",
        "plt.grid(True)\n",
        "\n",
        "ax2 = f.add_subplot(122)\n",
        "ax2.plot(err_df[0], err_df[1])\n",
        "ax2.set_title('Curva de Aprendizaje', fontsize=16)\n",
        "ax2.set_xlabel('epocas de iteración')\n",
        "ax2.set_ylabel('error')\n",
        "ax2.set_yscale('log')\n",
        "\n",
        "plt.savefig('Resultados/curvas_precision_aprendizaje.png')\n",
        "plt.grid(True)\n",
        "plt.show()"
      ],
      "execution_count": null,
      "outputs": [
        {
          "data": {
            "image/png": "[encoded data removed]",
            "text/plain": [
              "<Figure size 1296x504 with 2 Axes>"
            ]
          },
          "metadata": {},
          "output_type": "display_data"
        }
      ]
    },
    {
      "cell_type": "code",
      "metadata": {
        "colab": {
          "base_uri": "https://localhost:8080/"
        },
        "id": "QDxlr9zOhNjj",
        "outputId": "da504a3a-d8fe-42e6-f3cb-baa94df1ea11"
      },
      "source": [
        "from google.colab import drive\n",
        "drive.mount('/content/drive')"
      ],
      "execution_count": null,
      "outputs": [
        {
          "output_type": "stream",
          "name": "stdout",
          "text": [
            "Mounted at /content/drive\n"
          ]
        }
      ]
    },
    {
      "cell_type": "code",
      "metadata": {
        "id": "-DcqhqjRR-Gh"
      },
      "source": [
        "ruta = 'drive/My Drive/00 Modelos Principales/modelos/'\n",
        "torch.save(model.state_dict(), ruta + 'modelo_'+nombre+version+'.pth')\n",
        "pred_df = pd.DataFrame(pred)\n",
        "pred_df.to_csv(ruta + 'preds_'+nombre+version+'.csv')\n",
        "errores_df = pd.DataFrame(errores)\n",
        "errores_df.to_csv(ruta + 'errors_'+nombre+version+'.csv')\n"
      ],
      "execution_count": null,
      "outputs": []
    },
    {
      "cell_type": "code",
      "metadata": {
        "id": "rtI3bbTHa9qq"
      },
      "source": [
        "pred = scores.cpu().detach().numpy()\n",
        "predicts = pd.DataFrame(np.argmax(pred, 1))\n",
        "predicts.columns = ['preds']\n",
        "predicts['y_orig'] = y\n",
        "predicts['acierto'] = (predicts.preds == predicts.y_orig)*1\n",
        "predicts.to_excel(ruta + 'predicciones.xlsx')"
      ],
      "execution_count": null,
      "outputs": []
    }
  ]
}